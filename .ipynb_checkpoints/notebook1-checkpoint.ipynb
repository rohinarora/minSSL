{
 "cells": [
  {
   "cell_type": "markdown",
   "metadata": {},
   "source": [
    "good : https://discuss.pytorch.org/t/is-there-similar-pytorch-function-as-model-summary-as-keras/2678/6"
   ]
  },
  {
   "cell_type": "code",
   "execution_count": 38,
   "metadata": {},
   "outputs": [],
   "source": [
    "import torch\n",
    "import torchvision.models as models\n",
    "import torch.nn as nn"
   ]
  },
  {
   "cell_type": "code",
   "execution_count": 4,
   "metadata": {},
   "outputs": [],
   "source": [
    "from pytorch_model_summary import summary"
   ]
  },
  {
   "cell_type": "code",
   "execution_count": 28,
   "metadata": {},
   "outputs": [
    {
     "data": {
      "text/plain": [
       "Linear(in_features=512, out_features=128, bias=True)"
      ]
     },
     "execution_count": 28,
     "metadata": {},
     "output_type": "execute_result"
    }
   ],
   "source": [
    "resnet18_model.fc"
   ]
  },
  {
   "cell_type": "code",
   "execution_count": 40,
   "metadata": {},
   "outputs": [],
   "source": [
    "backbone_resnet18=models.resnet18(pretrained=False, num_classes=out_dim) #ResNet Model\n",
    "\n",
    "dim_mlp=backbone_resnet18.fc.in_features #512 for ResNet18\n",
    "\n",
    "backbone_resnet18.fc = nn.Sequential\\ #new fc layer. g() fn\n",
    "(nn.Linear(dim_mlp, dim_mlp), nn.ReLU(), backbone_resnet18.fc) \n"
   ]
  },
  {
   "cell_type": "code",
   "execution_count": 41,
   "metadata": {},
   "outputs": [
    {
     "name": "stdout",
     "output_type": "stream",
     "text": [
      "----------------------------------------------------------------------------\n",
      "           Layer (type)        Output Shape         Param #     Tr. Param #\n",
      "============================================================================\n",
      "               Conv2d-1     [1, 64, 14, 14]           9,408           9,408\n",
      "          BatchNorm2d-2     [1, 64, 14, 14]             128             128\n",
      "                 ReLU-3     [1, 64, 14, 14]               0               0\n",
      "            MaxPool2d-4       [1, 64, 7, 7]               0               0\n",
      "           BasicBlock-5       [1, 64, 7, 7]          73,984          73,984\n",
      "           BasicBlock-6       [1, 64, 7, 7]          73,984          73,984\n",
      "           BasicBlock-7      [1, 128, 4, 4]         230,144         230,144\n",
      "           BasicBlock-8      [1, 128, 4, 4]         295,424         295,424\n",
      "           BasicBlock-9      [1, 256, 2, 2]         919,040         919,040\n",
      "          BasicBlock-10      [1, 256, 2, 2]       1,180,672       1,180,672\n",
      "          BasicBlock-11      [1, 512, 1, 1]       3,673,088       3,673,088\n",
      "          BasicBlock-12      [1, 512, 1, 1]       4,720,640       4,720,640\n",
      "   AdaptiveAvgPool2d-13      [1, 512, 1, 1]               0               0\n",
      "              Linear-14            [1, 512]         262,656         262,656\n",
      "                ReLU-15            [1, 512]               0               0\n",
      "              Linear-16            [1, 128]          65,664          65,664\n",
      "============================================================================\n",
      "Total params: 11,504,832\n",
      "Trainable params: 11,504,832\n",
      "Non-trainable params: 0\n",
      "----------------------------------------------------------------------------\n"
     ]
    }
   ],
   "source": [
    "print(summary(backbone_resnet18, torch.zeros((1, 3, 28, 28)), show_input=False))"
   ]
  },
  {
   "cell_type": "code",
   "execution_count": 20,
   "metadata": {},
   "outputs": [
    {
     "name": "stdout",
     "output_type": "stream",
     "text": [
      "------------------------------------------------------------------------------\n",
      "           Layer (type)          Output Shape         Param #     Tr. Param #\n",
      "==============================================================================\n",
      "               Conv2d-1     [1, 64, 112, 112]           9,408           9,408\n",
      "          BatchNorm2d-2     [1, 64, 112, 112]             128             128\n",
      "                 ReLU-3     [1, 64, 112, 112]               0               0\n",
      "            MaxPool2d-4       [1, 64, 56, 56]               0               0\n",
      "           BasicBlock-5       [1, 64, 56, 56]          73,984          73,984\n",
      "           BasicBlock-6       [1, 64, 56, 56]          73,984          73,984\n",
      "           BasicBlock-7      [1, 128, 28, 28]         230,144         230,144\n",
      "           BasicBlock-8      [1, 128, 28, 28]         295,424         295,424\n",
      "           BasicBlock-9      [1, 256, 14, 14]         919,040         919,040\n",
      "          BasicBlock-10      [1, 256, 14, 14]       1,180,672       1,180,672\n",
      "          BasicBlock-11        [1, 512, 7, 7]       3,673,088       3,673,088\n",
      "          BasicBlock-12        [1, 512, 7, 7]       4,720,640       4,720,640\n",
      "   AdaptiveAvgPool2d-13        [1, 512, 1, 1]               0               0\n",
      "              Linear-14              [1, 128]          65,664          65,664\n",
      "==============================================================================\n",
      "Total params: 11,242,176\n",
      "Trainable params: 11,242,176\n",
      "Non-trainable params: 0\n",
      "------------------------------------------------------------------------------\n"
     ]
    }
   ],
   "source": [
    "print(summary(resnet18_model, torch.zeros((1, 3, 224, 224)), show_input=False))"
   ]
  },
  {
   "cell_type": "code",
   "execution_count": null,
   "metadata": {},
   "outputs": [],
   "source": []
  }
 ],
 "metadata": {
  "kernelspec": {
   "display_name": "Python 3",
   "language": "python",
   "name": "python3"
  },
  "language_info": {
   "codemirror_mode": {
    "name": "ipython",
    "version": 3
   },
   "file_extension": ".py",
   "mimetype": "text/x-python",
   "name": "python",
   "nbconvert_exporter": "python",
   "pygments_lexer": "ipython3",
   "version": "3.7.9"
  }
 },
 "nbformat": 4,
 "nbformat_minor": 4
}
