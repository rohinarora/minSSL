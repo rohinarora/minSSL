{
 "cells": [
  {
   "cell_type": "markdown",
   "metadata": {
    "colab_type": "text",
    "id": "view-in-github"
   },
   "source": [
    "<a href=\"https://colab.research.google.com/github/sthalles/SimCLR/blob/simclr-refactor/feature_eval/mini_batch_logistic_regression_evaluator.ipynb\" target=\"_parent\"><img src=\"https://colab.research.google.com/assets/colab-badge.svg\" alt=\"Open In Colab\"/></a>"
   ]
  },
  {
   "cell_type": "code",
   "execution_count": 6,
   "metadata": {
    "id": "YUemQib7ZE4D"
   },
   "outputs": [],
   "source": [
    "import torch\n",
    "import sys\n",
    "import numpy as np\n",
    "import os\n",
    "import yaml\n",
    "import matplotlib.pyplot as plt\n",
    "import torchvision\n",
    "from torch.utils.data import DataLoader\n",
    "import torchvision.transforms as transforms\n",
    "from torchvision import datasets"
   ]
  },
  {
   "cell_type": "code",
   "execution_count": 2,
   "metadata": {
    "colab": {
     "base_uri": "https://localhost:8080/"
    },
    "id": "WSgRE1CcLqdS",
    "outputId": "48a2ae15-f672-495b-8d43-9a23b85fa3b8"
   },
   "outputs": [
    {
     "name": "stdout",
     "output_type": "stream",
     "text": [
      "Collecting gdown\n",
      "  Downloading gdown-3.12.2.tar.gz (8.2 kB)\n",
      "  Installing build dependencies ... \u001b[?25ldone\n",
      "\u001b[?25h  Getting requirements to build wheel ... \u001b[?25ldone\n",
      "\u001b[?25h    Preparing wheel metadata ... \u001b[?25ldone\n",
      "\u001b[?25hRequirement already satisfied: tqdm in /home/arora.roh/.conda/envs/simclr1/lib/python3.7/site-packages (from gdown) (4.50.2)\n",
      "Requirement already satisfied: filelock in /home/arora.roh/.conda/envs/simclr1/lib/python3.7/site-packages (from gdown) (3.0.12)\n",
      "Requirement already satisfied: requests[socks] in /home/arora.roh/.local/lib/python3.7/site-packages (from gdown) (2.24.0)\n",
      "Requirement already satisfied: six in /home/arora.roh/.local/lib/python3.7/site-packages (from gdown) (1.15.0)\n",
      "Requirement already satisfied: urllib3!=1.25.0,!=1.25.1,<1.26,>=1.21.1 in /home/arora.roh/.local/lib/python3.7/site-packages (from requests[socks]->gdown) (1.25.10)\n",
      "Requirement already satisfied: chardet<4,>=3.0.2 in /home/arora.roh/.local/lib/python3.7/site-packages (from requests[socks]->gdown) (3.0.4)\n",
      "Requirement already satisfied: idna<3,>=2.5 in /home/arora.roh/.local/lib/python3.7/site-packages (from requests[socks]->gdown) (2.10)\n",
      "Requirement already satisfied: certifi>=2017.4.17 in /home/arora.roh/.local/lib/python3.7/site-packages (from requests[socks]->gdown) (2020.6.20)\n",
      "Requirement already satisfied: PySocks!=1.5.7,>=1.5.6; extra == \"socks\" in /home/arora.roh/.conda/envs/simclr1/lib/python3.7/site-packages (from requests[socks]->gdown) (1.7.1)\n",
      "Building wheels for collected packages: gdown\n",
      "  Building wheel for gdown (PEP 517) ... \u001b[?25ldone\n",
      "\u001b[?25h  Created wheel for gdown: filename=gdown-3.12.2-py3-none-any.whl size=9681 sha256=e7aeb48796863f84a249d2893133f26d1c48510ad467ccf5c082f4cac3144282\n",
      "  Stored in directory: /home/arora.roh/.cache/pip/wheels/ba/e0/7e/726e872a53f7358b4b96a9975b04e98113b005cd8609a63abc\n",
      "Successfully built gdown\n",
      "Installing collected packages: gdown\n",
      "Successfully installed gdown-3.12.2\n"
     ]
    }
   ],
   "source": [
    "!pip install gdown"
   ]
  },
  {
   "cell_type": "code",
   "execution_count": 3,
   "metadata": {
    "id": "NOIJEui1ZziV"
   },
   "outputs": [],
   "source": [
    "def get_file_id_by_model(folder_name):\n",
    "  file_id = {'resnet18_100-epochs_stl10': '14_nH2FkyKbt61cieQDiSbBVNP8-gtwgF',\n",
    "             'resnet18_100-epochs_cifar10': '1lc2aoVtrAetGn0PnTkOyFzPCIucOJq7C',\n",
    "             'resnet50_50-epochs_stl10': '1ByTKAUsdm_X7tLcii6oAEl5qFRqRMZSu'}\n",
    "  return file_id.get(folder_name, \"Model not found.\")"
   ]
  },
  {
   "cell_type": "code",
   "execution_count": 4,
   "metadata": {
    "colab": {
     "base_uri": "https://localhost:8080/"
    },
    "id": "G7YMxsvEZMrX",
    "outputId": "59475430-69d2-45a2-b61b-ae755d5d6e88"
   },
   "outputs": [
    {
     "name": "stdout",
     "output_type": "stream",
     "text": [
      "resnet50_50-epochs_stl10 1ByTKAUsdm_X7tLcii6oAEl5qFRqRMZSu\n"
     ]
    }
   ],
   "source": [
    "folder_name = 'resnet50_50-epochs_stl10'\n",
    "file_id = get_file_id_by_model(folder_name)\n",
    "print(folder_name, file_id)"
   ]
  },
  {
   "cell_type": "code",
   "execution_count": 5,
   "metadata": {
    "colab": {
     "base_uri": "https://localhost:8080/"
    },
    "id": "PWZ8fet_YoJm",
    "outputId": "fbaeb858-221b-4d1b-dd90-001a6e713b75"
   },
   "outputs": [
    {
     "name": "stdout",
     "output_type": "stream",
     "text": [
      "checkpoint_0040.pth.tar\r\n",
      "config.yml\r\n",
      "events.out.tfevents.1610927742.4cb2c837708d.2694093.0\r\n",
      "mini_batch_logistic_regression_evaluator.ipynb\r\n",
      "resnet50_50-epochs_stl10.zip\r\n",
      "training.log\r\n"
     ]
    }
   ],
   "source": [
    "# download and extract model files\n",
    "os.system('gdown https://drive.google.com/uc?id={}'.format(file_id))\n",
    "os.system('unzip {}'.format(folder_name))\n",
    "!ls"
   ]
  },
  {
   "cell_type": "code",
   "execution_count": 7,
   "metadata": {
    "colab": {
     "base_uri": "https://localhost:8080/"
    },
    "id": "lDfbL3w_Z0Od",
    "outputId": "7532966e-1c4a-4641-c928-4cda14c53389"
   },
   "outputs": [
    {
     "name": "stdout",
     "output_type": "stream",
     "text": [
      "Using device: cuda\n"
     ]
    }
   ],
   "source": [
    "device = 'cuda' if torch.cuda.is_available() else 'cpu'\n",
    "print(\"Using device:\", device)"
   ]
  },
  {
   "cell_type": "code",
   "execution_count": 8,
   "metadata": {
    "id": "BfIPl0G6_RrT"
   },
   "outputs": [],
   "source": [
    "def get_stl10_data_loaders(download, shuffle=False, batch_size=256):\n",
    "  train_dataset = datasets.STL10('./data', split='train', download=download,\n",
    "                                  transform=transforms.ToTensor())\n",
    "\n",
    "  train_loader = DataLoader(train_dataset, batch_size=batch_size,\n",
    "                            num_workers=0, drop_last=False, shuffle=shuffle)\n",
    "  \n",
    "  test_dataset = datasets.STL10('./data', split='test', download=download,\n",
    "                                  transform=transforms.ToTensor())\n",
    "\n",
    "  test_loader = DataLoader(test_dataset, batch_size=2*batch_size,\n",
    "                            num_workers=10, drop_last=False, shuffle=shuffle)\n",
    "  return train_loader, test_loader\n",
    "\n",
    "def get_cifar10_data_loaders(download, shuffle=False, batch_size=256):\n",
    "  train_dataset = datasets.CIFAR10('./data', train=True, download=download,\n",
    "                                  transform=transforms.ToTensor())\n",
    "\n",
    "  train_loader = DataLoader(train_dataset, batch_size=batch_size,\n",
    "                            num_workers=0, drop_last=False, shuffle=shuffle)\n",
    "  \n",
    "  test_dataset = datasets.CIFAR10('./data', train=False, download=download,\n",
    "                                  transform=transforms.ToTensor())\n",
    "\n",
    "  test_loader = DataLoader(test_dataset, batch_size=2*batch_size,\n",
    "                            num_workers=10, drop_last=False, shuffle=shuffle)\n",
    "  return train_loader, test_loader"
   ]
  },
  {
   "cell_type": "code",
   "execution_count": 10,
   "metadata": {
    "id": "6N8lYkbmDTaK"
   },
   "outputs": [
    {
     "name": "stderr",
     "output_type": "stream",
     "text": [
      "/home/arora.roh/.conda/envs/simclr1/lib/python3.7/site-packages/ipykernel_launcher.py:2: YAMLLoadWarning: calling yaml.load() without Loader=... is deprecated, as the default Loader is unsafe. Please read https://msg.pyyaml.org/load for full details.\n",
      "  \n"
     ]
    }
   ],
   "source": [
    "with open(os.path.join('./config.yml')) as file:\n",
    "  config = yaml.load(file)"
   ]
  },
  {
   "cell_type": "code",
   "execution_count": 11,
   "metadata": {
    "id": "a18lPD-tIle6"
   },
   "outputs": [],
   "source": [
    "if config.arch == 'resnet18':\n",
    "  model = torchvision.models.resnet18(pretrained=False, num_classes=10).to(device)\n",
    "elif config.arch == 'resnet50':\n",
    "  model = torchvision.models.resnet50(pretrained=False, num_classes=10).to(device)"
   ]
  },
  {
   "cell_type": "code",
   "execution_count": 12,
   "metadata": {
    "id": "4AIfgq41GuTT"
   },
   "outputs": [],
   "source": [
    "checkpoint = torch.load('checkpoint_0040.pth.tar', map_location=device)\n",
    "state_dict = checkpoint['state_dict']\n",
    "\n",
    "for k in list(state_dict.keys()):\n",
    "\n",
    "  if k.startswith('backbone.'):\n",
    "    if k.startswith('backbone') and not k.startswith('backbone.fc'):\n",
    "      # remove prefix\n",
    "      state_dict[k[len(\"backbone.\"):]] = state_dict[k]\n",
    "  del state_dict[k]"
   ]
  },
  {
   "cell_type": "code",
   "execution_count": 13,
   "metadata": {
    "id": "VVjA83PPJYWl"
   },
   "outputs": [],
   "source": [
    "log = model.load_state_dict(state_dict, strict=False)\n",
    "assert log.missing_keys == ['fc.weight', 'fc.bias']"
   ]
  },
  {
   "cell_type": "code",
   "execution_count": 14,
   "metadata": {
    "colab": {
     "base_uri": "https://localhost:8080/",
     "height": 117,
     "referenced_widgets": [
      "149b9ce8fb68473a837a77431c12281a",
      "88cd3db2831e4c13a4a634709700d6b2",
      "a88c31d74f5c40a2b24bcff5a35d216c",
      "60c6150177694717a622936b830427b5",
      "dba019efadee4fdc8c799f309b9a7e70",
      "5901c2829a554c8ebbd5926610088041",
      "957362a11d174407979cf17012bf9208",
      "a4f82234388e4701a02a9f68a177193a"
     ]
    },
    "id": "_GC0a14uWRr6",
    "outputId": "4c2558db-921c-425e-f947-6cc746d8c749"
   },
   "outputs": [
    {
     "name": "stdout",
     "output_type": "stream",
     "text": [
      "Downloading http://ai.stanford.edu/~acoates/stl10/stl10_binary.tar.gz to ./data/stl10_binary.tar.gz\n"
     ]
    },
    {
     "data": {
      "application/vnd.jupyter.widget-view+json": {
       "model_id": "572aef471af44fc59fdb29b8f34bbb96",
       "version_major": 2,
       "version_minor": 0
      },
      "text/plain": [
       "HBox(children=(HTML(value=''), FloatProgress(value=1.0, bar_style='info', layout=Layout(width='20px'), max=1.0…"
      ]
     },
     "metadata": {},
     "output_type": "display_data"
    },
    {
     "name": "stdout",
     "output_type": "stream",
     "text": [
      "Extracting ./data/stl10_binary.tar.gz to ./data\n",
      "Files already downloaded and verified\n",
      "Dataset: stl10\n"
     ]
    }
   ],
   "source": [
    "if config.dataset_name == 'cifar10':\n",
    "  train_loader, test_loader = get_cifar10_data_loaders(download=True)\n",
    "elif config.dataset_name == 'stl10':\n",
    "  train_loader, test_loader = get_stl10_data_loaders(download=True)\n",
    "print(\"Dataset:\", config.dataset_name)"
   ]
  },
  {
   "cell_type": "code",
   "execution_count": 15,
   "metadata": {
    "id": "pYT_KsM0Mnnr"
   },
   "outputs": [],
   "source": [
    "# freeze all layers but the last fc\n",
    "for name, param in model.named_parameters():\n",
    "    if name not in ['fc.weight', 'fc.bias']:\n",
    "        param.requires_grad = False\n",
    "\n",
    "parameters = list(filter(lambda p: p.requires_grad, model.parameters()))\n",
    "assert len(parameters) == 2  # fc.weight, fc.bias"
   ]
  },
  {
   "cell_type": "code",
   "execution_count": 16,
   "metadata": {
    "id": "aPVh1S_eMRDU"
   },
   "outputs": [],
   "source": [
    "optimizer = torch.optim.Adam(model.parameters(), lr=3e-4, weight_decay=0.0008)\n",
    "criterion = torch.nn.CrossEntropyLoss().to(device)"
   ]
  },
  {
   "cell_type": "code",
   "execution_count": 17,
   "metadata": {
    "id": "edr6RhP2PdVq"
   },
   "outputs": [],
   "source": [
    "def accuracy(output, target, topk=(1,)):\n",
    "    \"\"\"Computes the accuracy over the k top predictions for the specified values of k\"\"\"\n",
    "    with torch.no_grad():\n",
    "        maxk = max(topk)\n",
    "        batch_size = target.size(0)\n",
    "\n",
    "        _, pred = output.topk(maxk, 1, True, True)\n",
    "        pred = pred.t()\n",
    "        correct = pred.eq(target.view(1, -1).expand_as(pred))\n",
    "\n",
    "        res = []\n",
    "        for k in topk:\n",
    "            correct_k = correct[:k].reshape(-1).float().sum(0, keepdim=True)\n",
    "            res.append(correct_k.mul_(100.0 / batch_size))\n",
    "        return res"
   ]
  },
  {
   "cell_type": "code",
   "execution_count": 18,
   "metadata": {
    "colab": {
     "base_uri": "https://localhost:8080/"
    },
    "id": "qOder0dAMI7X",
    "outputId": "5f723b91-5a5e-43eb-ca01-a9b5ae2f1346"
   },
   "outputs": [
    {
     "name": "stdout",
     "output_type": "stream",
     "text": [
      "\n",
      "\n",
      "\n",
      "\n",
      "\n",
      "\n",
      "\n",
      "\n",
      "\n",
      "\n",
      "Epoch 0\tTop1 Train accuracy 33.82008361816406\tTop1 Test accuracy: 48.32763671875\tTop5 test acc: 93.48388671875\n",
      "Epoch 1\tTop1 Train accuracy 52.78607940673828\tTop1 Test accuracy: 55.16357421875\tTop5 test acc: 95.23681640625\n",
      "Epoch 2\tTop1 Train accuracy 57.42761993408203\tTop1 Test accuracy: 57.44873046875\tTop5 test acc: 95.7958984375\n",
      "Epoch 3\tTop1 Train accuracy 58.763790130615234\tTop1 Test accuracy: 58.07861328125\tTop5 test acc: 96.23046875\n",
      "Epoch 4\tTop1 Train accuracy 59.525508880615234\tTop1 Test accuracy: 58.56689453125\tTop5 test acc: 96.34033203125\n",
      "Epoch 5\tTop1 Train accuracy 60.1872673034668\tTop1 Test accuracy: 59.0087890625\tTop5 test acc: 96.474609375\n",
      "Epoch 6\tTop1 Train accuracy 60.6560173034668\tTop1 Test accuracy: 59.2919921875\tTop5 test acc: 96.54052734375\n",
      "Epoch 7\tTop1 Train accuracy 61.27412796020508\tTop1 Test accuracy: 59.49951171875\tTop5 test acc: 96.66259765625\n",
      "Epoch 8\tTop1 Train accuracy 61.44990921020508\tTop1 Test accuracy: 59.83642578125\tTop5 test acc: 96.7822265625\n",
      "Epoch 9\tTop1 Train accuracy 61.66475296020508\tTop1 Test accuracy: 60.21484375\tTop5 test acc: 96.86767578125\n",
      "Epoch 10\tTop1 Train accuracy 62.05537796020508\tTop1 Test accuracy: 60.49072265625\tTop5 test acc: 96.94091796875\n",
      "Epoch 11\tTop1 Train accuracy 62.30928421020508\tTop1 Test accuracy: 60.7421875\tTop5 test acc: 97.001953125\n",
      "Epoch 12\tTop1 Train accuracy 62.58272171020508\tTop1 Test accuracy: 61.0302734375\tTop5 test acc: 97.01416015625\n",
      "Epoch 13\tTop1 Train accuracy 62.853858947753906\tTop1 Test accuracy: 61.396484375\tTop5 test acc: 97.01416015625\n",
      "Epoch 14\tTop1 Train accuracy 63.088233947753906\tTop1 Test accuracy: 61.640625\tTop5 test acc: 97.0263671875\n",
      "Epoch 15\tTop1 Train accuracy 63.420265197753906\tTop1 Test accuracy: 61.806640625\tTop5 test acc: 97.03857421875\n",
      "Epoch 16\tTop1 Train accuracy 63.6328125\tTop1 Test accuracy: 61.91650390625\tTop5 test acc: 97.06298828125\n",
      "Epoch 17\tTop1 Train accuracy 63.828125\tTop1 Test accuracy: 62.06298828125\tTop5 test acc: 97.0556640625\n",
      "Epoch 18\tTop1 Train accuracy 63.928077697753906\tTop1 Test accuracy: 62.265625\tTop5 test acc: 97.11669921875\n",
      "Epoch 19\tTop1 Train accuracy 64.04296875\tTop1 Test accuracy: 62.4072265625\tTop5 test acc: 97.12158203125\n",
      "Epoch 20\tTop1 Train accuracy 64.3531723022461\tTop1 Test accuracy: 62.66845703125\tTop5 test acc: 97.19482421875\n",
      "Epoch 21\tTop1 Train accuracy 64.6070785522461\tTop1 Test accuracy: 62.8515625\tTop5 test acc: 97.255859375\n",
      "Epoch 22\tTop1 Train accuracy 64.93681335449219\tTop1 Test accuracy: 62.91259765625\tTop5 test acc: 97.24365234375\n",
      "Epoch 23\tTop1 Train accuracy 65.07353210449219\tTop1 Test accuracy: 63.02978515625\tTop5 test acc: 97.26806640625\n",
      "Epoch 24\tTop1 Train accuracy 65.28837585449219\tTop1 Test accuracy: 63.1396484375\tTop5 test acc: 97.3046875\n",
      "Epoch 25\tTop1 Train accuracy 65.46415710449219\tTop1 Test accuracy: 63.251953125\tTop5 test acc: 97.3681640625\n",
      "Epoch 26\tTop1 Train accuracy 65.60087585449219\tTop1 Test accuracy: 63.4228515625\tTop5 test acc: 97.35595703125\n",
      "Epoch 27\tTop1 Train accuracy 65.85478210449219\tTop1 Test accuracy: 63.50341796875\tTop5 test acc: 97.38037109375\n",
      "Epoch 28\tTop1 Train accuracy 66.03056335449219\tTop1 Test accuracy: 63.52783203125\tTop5 test acc: 97.38037109375\n",
      "Epoch 29\tTop1 Train accuracy 66.08915710449219\tTop1 Test accuracy: 63.62548828125\tTop5 test acc: 97.44140625\n",
      "Epoch 30\tTop1 Train accuracy 66.34076690673828\tTop1 Test accuracy: 63.662109375\tTop5 test acc: 97.44873046875\n",
      "Epoch 31\tTop1 Train accuracy 66.51654815673828\tTop1 Test accuracy: 63.759765625\tTop5 test acc: 97.4609375\n",
      "Epoch 32\tTop1 Train accuracy 66.61190032958984\tTop1 Test accuracy: 63.88427734375\tTop5 test acc: 97.44873046875\n",
      "Epoch 33\tTop1 Train accuracy 66.72908782958984\tTop1 Test accuracy: 64.03564453125\tTop5 test acc: 97.4365234375\n",
      "Epoch 34\tTop1 Train accuracy 66.88074493408203\tTop1 Test accuracy: 64.23095703125\tTop5 test acc: 97.47314453125\n",
      "Epoch 35\tTop1 Train accuracy 66.93933868408203\tTop1 Test accuracy: 64.37744140625\tTop5 test acc: 97.4853515625\n",
      "Epoch 36\tTop1 Train accuracy 67.03699493408203\tTop1 Test accuracy: 64.462890625\tTop5 test acc: 97.4853515625\n",
      "Epoch 37\tTop1 Train accuracy 67.21277618408203\tTop1 Test accuracy: 64.58740234375\tTop5 test acc: 97.4853515625\n",
      "Epoch 38\tTop1 Train accuracy 67.31043243408203\tTop1 Test accuracy: 64.65576171875\tTop5 test acc: 97.509765625\n",
      "Epoch 39\tTop1 Train accuracy 67.38855743408203\tTop1 Test accuracy: 64.70458984375\tTop5 test acc: 97.5341796875\n",
      "Epoch 40\tTop1 Train accuracy 67.52297973632812\tTop1 Test accuracy: 64.765625\tTop5 test acc: 97.54638671875\n",
      "Epoch 41\tTop1 Train accuracy 67.62063598632812\tTop1 Test accuracy: 64.716796875\tTop5 test acc: 97.55859375\n",
      "Epoch 42\tTop1 Train accuracy 67.71829223632812\tTop1 Test accuracy: 64.75341796875\tTop5 test acc: 97.55859375\n",
      "Epoch 43\tTop1 Train accuracy 67.83547973632812\tTop1 Test accuracy: 64.87060546875\tTop5 test acc: 97.5830078125\n",
      "Epoch 44\tTop1 Train accuracy 67.91130828857422\tTop1 Test accuracy: 64.91943359375\tTop5 test acc: 97.59521484375\n",
      "Epoch 45\tTop1 Train accuracy 68.06755828857422\tTop1 Test accuracy: 64.96826171875\tTop5 test acc: 97.61962890625\n",
      "Epoch 46\tTop1 Train accuracy 68.06985473632812\tTop1 Test accuracy: 65.1025390625\tTop5 test acc: 97.65625\n",
      "Epoch 47\tTop1 Train accuracy 68.08938598632812\tTop1 Test accuracy: 65.1025390625\tTop5 test acc: 97.71728515625\n",
      "Epoch 48\tTop1 Train accuracy 68.10891723632812\tTop1 Test accuracy: 65.2001953125\tTop5 test acc: 97.71728515625\n",
      "Epoch 49\tTop1 Train accuracy 68.12844848632812\tTop1 Test accuracy: 65.26611328125\tTop5 test acc: 97.71728515625\n",
      "Epoch 50\tTop1 Train accuracy 68.16751098632812\tTop1 Test accuracy: 65.31494140625\tTop5 test acc: 97.7294921875\n",
      "Epoch 51\tTop1 Train accuracy 68.16751098632812\tTop1 Test accuracy: 65.3515625\tTop5 test acc: 97.71728515625\n",
      "Epoch 52\tTop1 Train accuracy 68.16751098632812\tTop1 Test accuracy: 65.3759765625\tTop5 test acc: 97.71728515625\n",
      "Epoch 53\tTop1 Train accuracy 68.26516723632812\tTop1 Test accuracy: 65.36376953125\tTop5 test acc: 97.75390625\n",
      "Epoch 54\tTop1 Train accuracy 68.43865203857422\tTop1 Test accuracy: 65.4248046875\tTop5 test acc: 97.79052734375\n",
      "Epoch 55\tTop1 Train accuracy 68.45818328857422\tTop1 Test accuracy: 65.52490234375\tTop5 test acc: 97.802734375\n",
      "Epoch 56\tTop1 Train accuracy 68.63396453857422\tTop1 Test accuracy: 65.5859375\tTop5 test acc: 97.83935546875\n",
      "Epoch 57\tTop1 Train accuracy 68.75115203857422\tTop1 Test accuracy: 65.59814453125\tTop5 test acc: 97.8515625\n",
      "Epoch 58\tTop1 Train accuracy 68.79021453857422\tTop1 Test accuracy: 65.68359375\tTop5 test acc: 97.86376953125\n",
      "Epoch 59\tTop1 Train accuracy 68.86604309082031\tTop1 Test accuracy: 65.7568359375\tTop5 test acc: 97.86376953125\n",
      "Epoch 60\tTop1 Train accuracy 68.88557434082031\tTop1 Test accuracy: 65.7763671875\tTop5 test acc: 97.86376953125\n",
      "Epoch 61\tTop1 Train accuracy 68.98323059082031\tTop1 Test accuracy: 65.8251953125\tTop5 test acc: 97.86376953125\n",
      "Epoch 62\tTop1 Train accuracy 69.06135559082031\tTop1 Test accuracy: 65.86181640625\tTop5 test acc: 97.8759765625\n",
      "Epoch 63\tTop1 Train accuracy 69.15901184082031\tTop1 Test accuracy: 65.89111328125\tTop5 test acc: 97.8759765625\n",
      "Epoch 64\tTop1 Train accuracy 69.17854309082031\tTop1 Test accuracy: 65.91064453125\tTop5 test acc: 97.90771484375\n",
      "Epoch 65\tTop1 Train accuracy 69.21760559082031\tTop1 Test accuracy: 65.966796875\tTop5 test acc: 97.919921875\n",
      "Epoch 66\tTop1 Train accuracy 69.31526184082031\tTop1 Test accuracy: 66.05224609375\tTop5 test acc: 97.919921875\n",
      "Epoch 67\tTop1 Train accuracy 69.39108276367188\tTop1 Test accuracy: 66.10107421875\tTop5 test acc: 97.919921875\n",
      "Epoch 68\tTop1 Train accuracy 69.41061401367188\tTop1 Test accuracy: 66.11328125\tTop5 test acc: 97.939453125\n",
      "Epoch 69\tTop1 Train accuracy 69.52550506591797\tTop1 Test accuracy: 66.12548828125\tTop5 test acc: 97.92724609375\n",
      "Epoch 70\tTop1 Train accuracy 69.56456756591797\tTop1 Test accuracy: 66.1865234375\tTop5 test acc: 97.9150390625\n",
      "Epoch 71\tTop1 Train accuracy 69.62316131591797\tTop1 Test accuracy: 66.22314453125\tTop5 test acc: 97.92724609375\n",
      "Epoch 72\tTop1 Train accuracy 69.70128631591797\tTop1 Test accuracy: 66.27197265625\tTop5 test acc: 97.9150390625\n",
      "Epoch 73\tTop1 Train accuracy 69.77941131591797\tTop1 Test accuracy: 66.30859375\tTop5 test acc: 97.9150390625\n",
      "Epoch 74\tTop1 Train accuracy 69.83800506591797\tTop1 Test accuracy: 66.36962890625\tTop5 test acc: 97.90283203125\n"
     ]
    },
    {
     "name": "stdout",
     "output_type": "stream",
     "text": [
      "Epoch 75\tTop1 Train accuracy 69.95519256591797\tTop1 Test accuracy: 66.3818359375\tTop5 test acc: 97.890625\n",
      "Epoch 76\tTop1 Train accuracy 70.03331756591797\tTop1 Test accuracy: 66.3818359375\tTop5 test acc: 97.90283203125\n",
      "Epoch 77\tTop1 Train accuracy 70.05284881591797\tTop1 Test accuracy: 66.40625\tTop5 test acc: 97.90283203125\n",
      "Epoch 78\tTop1 Train accuracy 70.11144256591797\tTop1 Test accuracy: 66.455078125\tTop5 test acc: 97.890625\n",
      "Epoch 79\tTop1 Train accuracy 70.15050506591797\tTop1 Test accuracy: 66.5283203125\tTop5 test acc: 97.87841796875\n",
      "Epoch 80\tTop1 Train accuracy 70.18956756591797\tTop1 Test accuracy: 66.56494140625\tTop5 test acc: 97.87841796875\n",
      "Epoch 81\tTop1 Train accuracy 70.24816131591797\tTop1 Test accuracy: 66.5283203125\tTop5 test acc: 97.87841796875\n",
      "Epoch 82\tTop1 Train accuracy 70.32628631591797\tTop1 Test accuracy: 66.6015625\tTop5 test acc: 97.890625\n",
      "Epoch 83\tTop1 Train accuracy 70.36534881591797\tTop1 Test accuracy: 66.66259765625\tTop5 test acc: 97.890625\n",
      "Epoch 84\tTop1 Train accuracy 70.46300506591797\tTop1 Test accuracy: 66.71142578125\tTop5 test acc: 97.890625\n",
      "Epoch 85\tTop1 Train accuracy 70.46300506591797\tTop1 Test accuracy: 66.76025390625\tTop5 test acc: 97.90283203125\n",
      "Epoch 86\tTop1 Train accuracy 70.56066131591797\tTop1 Test accuracy: 66.78466796875\tTop5 test acc: 97.90283203125\n",
      "Epoch 87\tTop1 Train accuracy 70.58019256591797\tTop1 Test accuracy: 66.76025390625\tTop5 test acc: 97.90283203125\n",
      "Epoch 88\tTop1 Train accuracy 70.58019256591797\tTop1 Test accuracy: 66.80908203125\tTop5 test acc: 97.90283203125\n",
      "Epoch 89\tTop1 Train accuracy 70.56066131591797\tTop1 Test accuracy: 66.80908203125\tTop5 test acc: 97.90283203125\n",
      "Epoch 90\tTop1 Train accuracy 70.65831756591797\tTop1 Test accuracy: 66.90673828125\tTop5 test acc: 97.9150390625\n",
      "Epoch 91\tTop1 Train accuracy 70.71691131591797\tTop1 Test accuracy: 66.93115234375\tTop5 test acc: 97.9150390625\n",
      "Epoch 92\tTop1 Train accuracy 70.77550506591797\tTop1 Test accuracy: 66.95556640625\tTop5 test acc: 97.9150390625\n",
      "Epoch 93\tTop1 Train accuracy 70.87316131591797\tTop1 Test accuracy: 66.9677734375\tTop5 test acc: 97.9150390625\n",
      "Epoch 94\tTop1 Train accuracy 70.93175506591797\tTop1 Test accuracy: 66.97998046875\tTop5 test acc: 97.9150390625\n",
      "Epoch 95\tTop1 Train accuracy 71.00758361816406\tTop1 Test accuracy: 67.0166015625\tTop5 test acc: 97.90283203125\n",
      "Epoch 96\tTop1 Train accuracy 71.06617736816406\tTop1 Test accuracy: 67.05322265625\tTop5 test acc: 97.90283203125\n",
      "Epoch 97\tTop1 Train accuracy 71.14430236816406\tTop1 Test accuracy: 67.08984375\tTop5 test acc: 97.890625\n",
      "Epoch 98\tTop1 Train accuracy 71.22242736816406\tTop1 Test accuracy: 67.1142578125\tTop5 test acc: 97.87841796875\n",
      "Epoch 99\tTop1 Train accuracy 71.30055236816406\tTop1 Test accuracy: 67.15087890625\tTop5 test acc: 97.87841796875\n"
     ]
    }
   ],
   "source": [
    "epochs = 100\n",
    "for epoch in range(epochs):\n",
    "  top1_train_accuracy = 0\n",
    "  for counter, (x_batch, y_batch) in enumerate(train_loader):\n",
    "    x_batch = x_batch.to(device)\n",
    "    y_batch = y_batch.to(device)\n",
    "\n",
    "    logits = model(x_batch)\n",
    "    loss = criterion(logits, y_batch)\n",
    "    top1 = accuracy(logits, y_batch, topk=(1,))\n",
    "    top1_train_accuracy += top1[0]\n",
    "\n",
    "    optimizer.zero_grad()\n",
    "    loss.backward()\n",
    "    optimizer.step()\n",
    "\n",
    "  top1_train_accuracy /= (counter + 1)\n",
    "  top1_accuracy = 0\n",
    "  top5_accuracy = 0\n",
    "  for counter, (x_batch, y_batch) in enumerate(test_loader):\n",
    "    x_batch = x_batch.to(device)\n",
    "    y_batch = y_batch.to(device)\n",
    "\n",
    "    logits = model(x_batch)\n",
    "  \n",
    "    top1, top5 = accuracy(logits, y_batch, topk=(1,5))\n",
    "    top1_accuracy += top1[0]\n",
    "    top5_accuracy += top5[0]\n",
    "  \n",
    "  top1_accuracy /= (counter + 1)\n",
    "  top5_accuracy /= (counter + 1)\n",
    "  print(f\"Epoch {epoch}\\tTop1 Train accuracy {top1_train_accuracy.item()}\\tTop1 Test accuracy: {top1_accuracy.item()}\\tTop5 test acc: {top5_accuracy.item()}\")"
   ]
  },
  {
   "cell_type": "code",
   "execution_count": 27,
   "metadata": {
    "id": "dtYqHZirMNZk"
   },
   "outputs": [],
   "source": []
  }
 ],
 "metadata": {
  "accelerator": "GPU",
  "colab": {
   "include_colab_link": true,
   "name": "Copy of mini-batch-logistic-regression-evaluator.ipynb",
   "provenance": []
  },
  "kernelspec": {
   "display_name": "Python 3",
   "language": "python",
   "name": "python3"
  },
  "language_info": {
   "codemirror_mode": {
    "name": "ipython",
    "version": 3
   },
   "file_extension": ".py",
   "mimetype": "text/x-python",
   "name": "python",
   "nbconvert_exporter": "python",
   "pygments_lexer": "ipython3",
   "version": "3.7.9"
  },
  "widgets": {
   "application/vnd.jupyter.widget-state+json": {
    "149b9ce8fb68473a837a77431c12281a": {
     "model_module": "@jupyter-widgets/controls",
     "model_name": "HBoxModel",
     "state": {
      "_dom_classes": [],
      "_model_module": "@jupyter-widgets/controls",
      "_model_module_version": "1.5.0",
      "_model_name": "HBoxModel",
      "_view_count": null,
      "_view_module": "@jupyter-widgets/controls",
      "_view_module_version": "1.5.0",
      "_view_name": "HBoxView",
      "box_style": "",
      "children": [
       "IPY_MODEL_a88c31d74f5c40a2b24bcff5a35d216c",
       "IPY_MODEL_60c6150177694717a622936b830427b5"
      ],
      "layout": "IPY_MODEL_88cd3db2831e4c13a4a634709700d6b2"
     }
    },
    "5901c2829a554c8ebbd5926610088041": {
     "model_module": "@jupyter-widgets/base",
     "model_name": "LayoutModel",
     "state": {
      "_model_module": "@jupyter-widgets/base",
      "_model_module_version": "1.2.0",
      "_model_name": "LayoutModel",
      "_view_count": null,
      "_view_module": "@jupyter-widgets/base",
      "_view_module_version": "1.2.0",
      "_view_name": "LayoutView",
      "align_content": null,
      "align_items": null,
      "align_self": null,
      "border": null,
      "bottom": null,
      "display": null,
      "flex": null,
      "flex_flow": null,
      "grid_area": null,
      "grid_auto_columns": null,
      "grid_auto_flow": null,
      "grid_auto_rows": null,
      "grid_column": null,
      "grid_gap": null,
      "grid_row": null,
      "grid_template_areas": null,
      "grid_template_columns": null,
      "grid_template_rows": null,
      "height": null,
      "justify_content": null,
      "justify_items": null,
      "left": null,
      "margin": null,
      "max_height": null,
      "max_width": null,
      "min_height": null,
      "min_width": null,
      "object_fit": null,
      "object_position": null,
      "order": null,
      "overflow": null,
      "overflow_x": null,
      "overflow_y": null,
      "padding": null,
      "right": null,
      "top": null,
      "visibility": null,
      "width": null
     }
    },
    "60c6150177694717a622936b830427b5": {
     "model_module": "@jupyter-widgets/controls",
     "model_name": "HTMLModel",
     "state": {
      "_dom_classes": [],
      "_model_module": "@jupyter-widgets/controls",
      "_model_module_version": "1.5.0",
      "_model_name": "HTMLModel",
      "_view_count": null,
      "_view_module": "@jupyter-widgets/controls",
      "_view_module_version": "1.5.0",
      "_view_name": "HTMLView",
      "description": "",
      "description_tooltip": null,
      "layout": "IPY_MODEL_a4f82234388e4701a02a9f68a177193a",
      "placeholder": "​",
      "style": "IPY_MODEL_957362a11d174407979cf17012bf9208",
      "value": " 2640404480/? [00:51&lt;00:00, 32685718.58it/s]"
     }
    },
    "88cd3db2831e4c13a4a634709700d6b2": {
     "model_module": "@jupyter-widgets/base",
     "model_name": "LayoutModel",
     "state": {
      "_model_module": "@jupyter-widgets/base",
      "_model_module_version": "1.2.0",
      "_model_name": "LayoutModel",
      "_view_count": null,
      "_view_module": "@jupyter-widgets/base",
      "_view_module_version": "1.2.0",
      "_view_name": "LayoutView",
      "align_content": null,
      "align_items": null,
      "align_self": null,
      "border": null,
      "bottom": null,
      "display": null,
      "flex": null,
      "flex_flow": null,
      "grid_area": null,
      "grid_auto_columns": null,
      "grid_auto_flow": null,
      "grid_auto_rows": null,
      "grid_column": null,
      "grid_gap": null,
      "grid_row": null,
      "grid_template_areas": null,
      "grid_template_columns": null,
      "grid_template_rows": null,
      "height": null,
      "justify_content": null,
      "justify_items": null,
      "left": null,
      "margin": null,
      "max_height": null,
      "max_width": null,
      "min_height": null,
      "min_width": null,
      "object_fit": null,
      "object_position": null,
      "order": null,
      "overflow": null,
      "overflow_x": null,
      "overflow_y": null,
      "padding": null,
      "right": null,
      "top": null,
      "visibility": null,
      "width": null
     }
    },
    "957362a11d174407979cf17012bf9208": {
     "model_module": "@jupyter-widgets/controls",
     "model_name": "DescriptionStyleModel",
     "state": {
      "_model_module": "@jupyter-widgets/controls",
      "_model_module_version": "1.5.0",
      "_model_name": "DescriptionStyleModel",
      "_view_count": null,
      "_view_module": "@jupyter-widgets/base",
      "_view_module_version": "1.2.0",
      "_view_name": "StyleView",
      "description_width": ""
     }
    },
    "a4f82234388e4701a02a9f68a177193a": {
     "model_module": "@jupyter-widgets/base",
     "model_name": "LayoutModel",
     "state": {
      "_model_module": "@jupyter-widgets/base",
      "_model_module_version": "1.2.0",
      "_model_name": "LayoutModel",
      "_view_count": null,
      "_view_module": "@jupyter-widgets/base",
      "_view_module_version": "1.2.0",
      "_view_name": "LayoutView",
      "align_content": null,
      "align_items": null,
      "align_self": null,
      "border": null,
      "bottom": null,
      "display": null,
      "flex": null,
      "flex_flow": null,
      "grid_area": null,
      "grid_auto_columns": null,
      "grid_auto_flow": null,
      "grid_auto_rows": null,
      "grid_column": null,
      "grid_gap": null,
      "grid_row": null,
      "grid_template_areas": null,
      "grid_template_columns": null,
      "grid_template_rows": null,
      "height": null,
      "justify_content": null,
      "justify_items": null,
      "left": null,
      "margin": null,
      "max_height": null,
      "max_width": null,
      "min_height": null,
      "min_width": null,
      "object_fit": null,
      "object_position": null,
      "order": null,
      "overflow": null,
      "overflow_x": null,
      "overflow_y": null,
      "padding": null,
      "right": null,
      "top": null,
      "visibility": null,
      "width": null
     }
    },
    "a88c31d74f5c40a2b24bcff5a35d216c": {
     "model_module": "@jupyter-widgets/controls",
     "model_name": "FloatProgressModel",
     "state": {
      "_dom_classes": [],
      "_model_module": "@jupyter-widgets/controls",
      "_model_module_version": "1.5.0",
      "_model_name": "FloatProgressModel",
      "_view_count": null,
      "_view_module": "@jupyter-widgets/controls",
      "_view_module_version": "1.5.0",
      "_view_name": "ProgressView",
      "bar_style": "info",
      "description": "",
      "description_tooltip": null,
      "layout": "IPY_MODEL_5901c2829a554c8ebbd5926610088041",
      "max": 1,
      "min": 0,
      "orientation": "horizontal",
      "style": "IPY_MODEL_dba019efadee4fdc8c799f309b9a7e70",
      "value": 1
     }
    },
    "dba019efadee4fdc8c799f309b9a7e70": {
     "model_module": "@jupyter-widgets/controls",
     "model_name": "ProgressStyleModel",
     "state": {
      "_model_module": "@jupyter-widgets/controls",
      "_model_module_version": "1.5.0",
      "_model_name": "ProgressStyleModel",
      "_view_count": null,
      "_view_module": "@jupyter-widgets/base",
      "_view_module_version": "1.2.0",
      "_view_name": "StyleView",
      "bar_color": null,
      "description_width": "initial"
     }
    }
   }
  }
 },
 "nbformat": 4,
 "nbformat_minor": 1
}
